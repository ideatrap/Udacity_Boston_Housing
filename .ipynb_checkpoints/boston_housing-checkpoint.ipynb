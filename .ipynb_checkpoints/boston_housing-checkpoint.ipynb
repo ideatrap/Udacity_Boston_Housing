{
 "cells": [
  {
   "cell_type": "markdown",
   "metadata": {
    "nbpresent": {
     "id": "26f577e3-1615-4464-9910-d80075b81559"
    }
   },
   "source": [
    "# Machine Learning Engineer Nanodegree\n",
    "## Model Evaluation & Validation\n",
    "## Project 1: Predicting Boston Housing Prices\n",
    "\n",
    "Welcome to the first project of the Machine Learning Engineer Nanodegree! In this notebook, some template code has already been provided for you, and you will need to implement additional functionality to successfully complete this project. You will not need to modify the included code beyond what is requested. Sections that begin with **'Implementation'** in the header indicate that the following block of code will require additional functionality which you must provide. Instructions will be provided for each section and the specifics of the implementation are marked in the code block with a 'TODO' statement. Please be sure to read the instructions carefully!\n",
    "\n",
    "In addition to implementing code, there will be questions that you must answer which relate to the project and your implementation. Each section where you will answer a question is preceded by a **'Question X'** header. Carefully read each question and provide thorough answers in the following text boxes that begin with **'Answer:'**. Your project submission will be evaluated based on your answers to each of the questions and the implementation you provide.  \n",
    "\n",
    ">**Note:** Code and Markdown cells can be executed using the **Shift + Enter** keyboard shortcut. In addition, Markdown cells can be edited by typically double-clicking the cell to enter edit mode."
   ]
  },
  {
   "cell_type": "markdown",
   "metadata": {
    "nbpresent": {
     "id": "15b1187b-f574-4cc8-b2b8-5373e97ec546"
    }
   },
   "source": [
    "## Getting Started\n",
    "In this project, you will evaluate the performance and predictive power of a model that has been trained and tested on data collected from homes in suburbs of Boston, Massachusetts. A model trained on this data that is seen as a *good fit* could then be used to make certain predictions about a home — in particular, its monetary value. This model would prove to be invaluable for someone like a real estate agent who could make use of such information on a daily basis.\n",
    "\n",
    "The dataset for this project originates from the [UCI Machine Learning Repository](https://archive.ics.uci.edu/ml/datasets/Housing). The Boston housing data was collected in 1978 and each of the 506 entries represent aggregated data about 14 features for homes from various suburbs in Boston, Massachusetts. For the purposes of this project, the following preprocessing steps have been made to the dataset:\n",
    "- 16 data points have an `'MEDV'` value of 50.0. These data points likely contain **missing or censored values** and have been removed.\n",
    "- 1 data point has an `'RM'` value of 8.78. This data point can be considered an **outlier** and has been removed.\n",
    "- The features `'RM'`, `'LSTAT'`, `'PTRATIO'`, and `'MEDV'` are essential. The remaining **non-relevant features** have been excluded.\n",
    "- The feature `'MEDV'` has been **multiplicatively scaled** to account for 35 years of market inflation.\n",
    "\n",
    "Run the code cell below to load the Boston housing dataset, along with a few of the necessary Python libraries required for this project. You will know the dataset loaded successfully if the size of the dataset is reported."
   ]
  },
  {
   "cell_type": "code",
   "execution_count": 16,
   "metadata": {
    "collapsed": false,
    "nbpresent": {
     "id": "fe46e89c-fedd-48c7-b0e7-7dc75820e6d1"
    }
   },
   "outputs": [
    {
     "name": "stdout",
     "output_type": "stream",
     "text": [
      "Boston housing dataset has 489 data points with 4 variables each.\n"
     ]
    }
   ],
   "source": [
    "# Import libraries necessary for this project\n",
    "import numpy as np\n",
    "import pandas as pd\n",
    "import visuals as vs # Supplementary code\n",
    "from sklearn.cross_validation import ShuffleSplit\n",
    "\n",
    "# Pretty display for notebooks\n",
    "%matplotlib inline\n",
    "\n",
    "# Load the Boston housing dataset\n",
    "data = pd.read_csv('housing.csv')\n",
    "prices = data['MEDV']\n",
    "features = data.drop('MEDV', axis = 1)\n",
    "    \n",
    "# Success\n",
    "print \"Boston housing dataset has {} data points with {} variables each.\".format(*data.shape)"
   ]
  },
  {
   "cell_type": "markdown",
   "metadata": {
    "nbpresent": {
     "id": "1fe05a3b-72bd-42c8-844d-7d95a94d723a"
    }
   },
   "source": [
    "## Data Exploration\n",
    "In this first section of this project, you will make a cursory investigation about the Boston housing data and provide your observations. Familiarizing yourself with the data through an explorative process is a fundamental practice to help you better understand and justify your results.\n",
    "\n",
    "Since the main goal of this project is to construct a working model which has the capability of predicting the value of houses, we will need to separate the dataset into **features** and the **target variable**. The **features**, `'RM'`, `'LSTAT'`, and `'PTRATIO'`, give us quantitative information about each data point. The **target variable**, `'MEDV'`, will be the variable we seek to predict. These are stored in `features` and `prices`, respectively."
   ]
  },
  {
   "cell_type": "markdown",
   "metadata": {
    "nbpresent": {
     "id": "8e032d3c-a2a7-4c50-9703-72a3b43c5da3"
    }
   },
   "source": [
    "### Implementation: Calculate Statistics\n",
    "For your very first coding implementation, you will calculate descriptive statistics about the Boston housing prices. Since `numpy` has already been imported for you, use this library to perform the necessary calculations. These statistics will be extremely important later on to analyze various prediction results from the constructed model.\n",
    "\n",
    "In the code cell below, you will need to implement the following:\n",
    "- Calculate the minimum, maximum, mean, median, and standard deviation of `'MEDV'`, which is stored in `prices`.\n",
    "  - Store each calculation in their respective variable."
   ]
  },
  {
   "cell_type": "code",
   "execution_count": 17,
   "metadata": {
    "collapsed": false,
    "nbpresent": {
     "id": "97e077d0-ad20-4138-b672-b9a77d9c0cf9"
    }
   },
   "outputs": [
    {
     "name": "stdout",
     "output_type": "stream",
     "text": [
      "Statistics for Boston housing dataset:\n",
      "\n",
      "Minimum price: $105,000.00\n",
      "Maximum price: $1,024,800.00\n",
      "Mean price: $454,342.94\n",
      "Median price $438,900.00\n",
      "Standard deviation of prices: $165,171.13\n"
     ]
    }
   ],
   "source": [
    "# TODO: Minimum price of the data\n",
    "minimum_price = np.min(prices)\n",
    "\n",
    "# TODO: Maximum price of the data\n",
    "maximum_price = np.max(prices)\n",
    "\n",
    "# TODO: Mean price of the data\n",
    "mean_price = np.mean(prices)\n",
    "\n",
    "# TODO: Median price of the data\n",
    "median_price = np.median(prices)\n",
    "\n",
    "# TODO: Standard deviation of prices of the data\n",
    "std_price = np.std(prices)\n",
    "\n",
    "# Show the calculated statistics\n",
    "print \"Statistics for Boston housing dataset:\\n\"\n",
    "print \"Minimum price: ${:,.2f}\".format(minimum_price)\n",
    "print \"Maximum price: ${:,.2f}\".format(maximum_price)\n",
    "print \"Mean price: ${:,.2f}\".format(mean_price)\n",
    "print \"Median price ${:,.2f}\".format(median_price)\n",
    "print \"Standard deviation of prices: ${:,.2f}\".format(std_price)"
   ]
  },
  {
   "cell_type": "markdown",
   "metadata": {
    "nbpresent": {
     "id": "c6a241b7-0666-4dac-bdc8-c00149dc694e"
    }
   },
   "source": [
    "### Question 1 - Feature Observation\n",
    "As a reminder, we are using three features from the Boston housing dataset: `'RM'`, `'LSTAT'`, and `'PTRATIO'`. For each data point (neighborhood):\n",
    "- `'RM'` is the average number of rooms among homes in the neighborhood.\n",
    "- `'LSTAT'` is the percentage of homeowners in the neighborhood considered \"lower class\" (working poor).\n",
    "- `'PTRATIO'` is the ratio of students to teachers in primary and secondary schools in the neighborhood.\n",
    "\n",
    "_Using your intuition, for each of the three features above, do you think that an increase in the value of that feature would lead to an **increase** in the value of `'MEDV'` or a **decrease** in the value of `'MEDV'`? Justify your answer for each._  \n",
    "**Hint:** Would you expect a home that has an `'RM'` value of 6 be worth more or less than a home that has an `'RM'` value of 7?"
   ]
  },
  {
   "cell_type": "markdown",
   "metadata": {
    "nbpresent": {
     "id": "e325d109-3cdc-4454-91a2-279b4953a149"
    }
   },
   "source": [
    "**Answer: **\n",
    "1. Increase in RM would increase 'MEDV'. Normally, larger the house, more desirable, hence more expensive the house is\n",
    "2. More 'LSTAT' will lead to lower 'MEDV' because lower income has lower purchasing power \n",
    "3. Increase in 'PTRATIO' means more crowded school, hence lower house price ('MEDV')"
   ]
  },
  {
   "cell_type": "markdown",
   "metadata": {
    "nbpresent": {
     "id": "28494c6a-e4a8-4d71-b356-73b123c240d5"
    }
   },
   "source": [
    "----\n",
    "\n",
    "## Developing a Model\n",
    "In this second section of the project, you will develop the tools and techniques necessary for a model to make a prediction. Being able to make accurate evaluations of each model's performance through the use of these tools and techniques helps to greatly reinforce the confidence in your predictions."
   ]
  },
  {
   "cell_type": "markdown",
   "metadata": {
    "nbpresent": {
     "id": "59688b98-6541-4bfb-8338-2e3e71702990"
    }
   },
   "source": [
    "### Implementation: Define a Performance Metric\n",
    "It is difficult to measure the quality of a given model without quantifying its performance over training and testing. This is typically done using some type of performance metric, whether it is through calculating some type of error, the goodness of fit, or some other useful measurement. For this project, you will be calculating the [*coefficient of determination*](http://stattrek.com/statistics/dictionary.aspx?definition=coefficient_of_determination), R<sup>2</sup>, to quantify your model's performance. The coefficient of determination for a model is a useful statistic in regression analysis, as it often describes how \"good\" that model is at making predictions. \n",
    "\n",
    "The values for R<sup>2</sup> range from 0 to 1, which captures the percentage of squared correlation between the predicted and actual values of the **target variable**. A model with an R<sup>2</sup> of 0 always fails to predict the target variable, whereas a model with an R<sup>2</sup> of 1 perfectly predicts the target variable. Any value between 0 and 1 indicates what percentage of the target variable, using this model, can be explained by the **features**. *A model can be given a negative R<sup>2</sup> as well, which indicates that the model is no better than one that naively predicts the mean of the target variable.*\n",
    "\n",
    "For the `performance_metric` function in the code cell below, you will need to implement the following:\n",
    "- Use `r2_score` from `sklearn.metrics` to perform a performance calculation between `y_true` and `y_predict`.\n",
    "- Assign the performance score to the `score` variable."
   ]
  },
  {
   "cell_type": "code",
   "execution_count": 18,
   "metadata": {
    "collapsed": false,
    "nbpresent": {
     "id": "9afc27d5-072b-4d28-baf4-b62909118551"
    }
   },
   "outputs": [],
   "source": [
    "# TODO: Import 'r2_score'\n",
    "\n",
    "from sklearn.metrics import r2_score\n",
    "\n",
    "\n",
    "def performance_metric(y_true, y_predict):\n",
    "    \"\"\" Calculates and returns the performance score between \n",
    "        true and predicted values based on the metric chosen. \"\"\"\n",
    "    \n",
    "    # TODO: Calculate the performance score between 'y_true' and 'y_predict'\n",
    "    score = r2_score(y_true, y_predict)\n",
    "    \n",
    "    # Return the score\n",
    "    return score"
   ]
  },
  {
   "cell_type": "markdown",
   "metadata": {
    "nbpresent": {
     "id": "e14feed4-1f1c-445e-95ce-3970994cd0ee"
    }
   },
   "source": [
    "### Question 2 - Goodness of Fit\n",
    "Assume that a dataset contains five data points and a model made the following predictions for the target variable:\n",
    "\n",
    "| True Value | Prediction |\n",
    "| :-------------: | :--------: |\n",
    "| 3.0 | 2.5 |\n",
    "| -0.5 | 0.0 |\n",
    "| 2.0 | 2.1 |\n",
    "| 7.0 | 7.8 |\n",
    "| 4.2 | 5.3 |\n",
    "*Would you consider this model to have successfully captured the variation of the target variable? Why or why not?* \n",
    "\n",
    "Run the code cell below to use the `performance_metric` function and calculate this model's coefficient of determination."
   ]
  },
  {
   "cell_type": "code",
   "execution_count": 19,
   "metadata": {
    "collapsed": false,
    "nbpresent": {
     "id": "6638be0f-3ba0-4bfe-87cb-d9add37fd6d3"
    }
   },
   "outputs": [
    {
     "name": "stdout",
     "output_type": "stream",
     "text": [
      "Model has a coefficient of determination, R^2, of 0.923.\n"
     ]
    }
   ],
   "source": [
    "# Calculate the performance of this model\n",
    "score = performance_metric([3, -0.5, 2, 7, 4.2], [2.5, 0.0, 2.1, 7.8, 5.3])\n",
    "print \"Model has a coefficient of determination, R^2, of {:.3f}.\".format(score)"
   ]
  },
  {
   "cell_type": "markdown",
   "metadata": {
    "nbpresent": {
     "id": "c9f16d1d-bf09-46fa-a482-7e85a8414d44"
    }
   },
   "source": [
    "**Answer:**\n",
    "Since R^2 is 0.923. It's large enough to conclude that the model has successfully captured the variation of the target variable."
   ]
  },
  {
   "cell_type": "markdown",
   "metadata": {
    "nbpresent": {
     "id": "45cac463-a1dc-4065-9def-b86cb5737a8f"
    }
   },
   "source": [
    "### Implementation: Shuffle and Split Data\n",
    "Your next implementation requires that you take the Boston housing dataset and split the data into training and testing subsets. Typically, the data is also shuffled into a random order when creating the training and testing subsets to remove any bias in the ordering of the dataset.\n",
    "\n",
    "For the code cell below, you will need to implement the following:\n",
    "- Use `train_test_split` from `sklearn.cross_validation` to shuffle and split the `features` and `prices` data into training and testing sets.\n",
    "  - Split the data into 80% training and 20% testing.\n",
    "  - Set the `random_state` for `train_test_split` to a value of your choice. This ensures results are consistent.\n",
    "- Assign the train and testing splits to `X_train`, `X_test`, `y_train`, and `y_test`."
   ]
  },
  {
   "cell_type": "code",
   "execution_count": 20,
   "metadata": {
    "collapsed": false,
    "nbpresent": {
     "id": "bb95cc12-c01a-40dc-9149-21a6654c2291"
    }
   },
   "outputs": [
    {
     "name": "stdout",
     "output_type": "stream",
     "text": [
      "Training and testing split was successful.\n"
     ]
    }
   ],
   "source": [
    "# TODO: Import 'train_test_split'\n",
    "\n",
    "from sklearn.cross_validation import train_test_split\n",
    "\n",
    "# TODO: Shuffle and split the data into training and testing subsets\n",
    "X_train, X_test, y_train, y_test = train_test_split(features, prices, test_size=0.2)\n",
    "\n",
    "# Success\n",
    "print \"Training and testing split was successful.\""
   ]
  },
  {
   "cell_type": "markdown",
   "metadata": {
    "nbpresent": {
     "id": "10d91b0c-81d6-47d3-9b23-af31629e9cae"
    }
   },
   "source": [
    "### Question 3 - Training and Testing\n",
    "*What is the benefit to splitting a dataset into some ratio of training and testing subsets for a learning algorithm?*  \n",
    "**Hint:** What could go wrong with not having a way to test your model?"
   ]
  },
  {
   "cell_type": "markdown",
   "metadata": {
    "nbpresent": {
     "id": "1901ff0d-9170-4273-a140-27af2f2f8d0e"
    }
   },
   "source": [
    "**Answer: **\n",
    "\n",
    "It's useful to split the dataset into training and testing subset to evaluate the performance of the model, and fine tune it to make it "
   ]
  },
  {
   "cell_type": "markdown",
   "metadata": {
    "nbpresent": {
     "id": "f2822bcd-cfce-413e-9170-925c4ad6dc2a"
    }
   },
   "source": [
    "----\n",
    "\n",
    "## Analyzing Model Performance\n",
    "In this third section of the project, you'll take a look at several models' learning and testing performances on various subsets of training data. Additionally, you'll investigate one particular algorithm with an increasing `'max_depth'` parameter on the full training set to observe how model complexity affects performance. Graphing your model's performance based on varying criteria can be beneficial in the analysis process, such as visualizing behavior that may not have been apparent from the results alone."
   ]
  },
  {
   "cell_type": "markdown",
   "metadata": {
    "nbpresent": {
     "id": "a03bb290-02ca-4208-9099-54b22d9bb3ba"
    }
   },
   "source": [
    "### Learning Curves\n",
    "The following code cell produces four graphs for a decision tree model with different maximum depths. Each graph visualizes the learning curves of the model for both training and testing as the size of the training set is increased. Note that the shaded region of a learning curve denotes the uncertainty of that curve (measured as the standard deviation). The model is scored on both the training and testing sets using R<sup>2</sup>, the coefficient of determination.  \n",
    "\n",
    "Run the code cell below and use these graphs to answer the following question."
   ]
  },
  {
   "cell_type": "code",
   "execution_count": 22,
   "metadata": {
    "collapsed": false,
    "nbpresent": {
     "id": "ecbca59c-86bb-46c1-a26d-bc05a6767e72"
    },
    "scrolled": true
   },
   "outputs": [
    {
     "data": {
      "image/png": "[encoded data removed]",
      "text/plain": [
       "<matplotlib.figure.Figure at 0x5fa9278>"
      ]
     },
     "metadata": {},
     "output_type": "display_data"
    }
   ],
   "source": [
    "# Produce learning curves for varying training set sizes and maximum depths\n",
    "vs.ModelLearning(features, prices)"
   ]
  },
  {
   "cell_type": "markdown",
   "metadata": {
    "nbpresent": {
     "id": "76363ff2-8acd-4e39-84e1-fc48f7591f76"
    }
   },
   "source": [
    "### Question 4 - Learning the Data\n",
    "*Choose one of the graphs above and state the maximum depth for the model. What happens to the score of the training curve as more training points are added? What about the testing curve? Would having more training points benefit the model?*  \n",
    "**Hint:** Are the learning curves converging to particular scores?"
   ]
  },
  {
   "cell_type": "markdown",
   "metadata": {
    "nbpresent": {
     "id": "d555c53c-4806-4d75-a5ae-cfef99e77189"
    }
   },
   "source": [
    "**Answer: **\n",
    "for Max_depth =6, as oppose to max_depth=3, the average training score stays about the same, but the average testing score roughly stays the same. As the number of points increases, the uncertainty for max_depth= 3 decreases, but the uncertainty for max_depth=6 roughly unchanged."
   ]
  },
  {
   "cell_type": "markdown",
   "metadata": {
    "nbpresent": {
     "id": "5ace7db1-2542-49d1-8480-fe910938e321"
    }
   },
   "source": [
    "### Complexity Curves\n",
    "The following code cell produces a graph for a decision tree model that has been trained and validated on the training data using different maximum depths. The graph produces two complexity curves — one for training and one for validation. Similar to the **learning curves**, the shaded regions of both the complexity curves denote the uncertainty in those curves, and the model is scored on both the training and validation sets using the `performance_metric` function.  \n",
    "\n",
    "Run the code cell below and use this graph to answer the following two questions."
   ]
  },
  {
   "cell_type": "code",
   "execution_count": 21,
   "metadata": {
    "collapsed": false,
    "nbpresent": {
     "id": "01e6a219-edb2-4865-9d6e-c50e3a8c27ab"
    }
   },
   "outputs": [
    {
     "data": {
      "image/png": "[encoded data removed]",
      "text/plain": [
       "<matplotlib.figure.Figure at 0x10b69fc10>"
      ]
     },
     "metadata": {},
     "output_type": "display_data"
    }
   ],
   "source": [
    "vs.ModelComplexity(X_train, y_train)"
   ]
  },
  {
   "cell_type": "markdown",
   "metadata": {
    "nbpresent": {
     "id": "ed3e0089-d010-44f9-8b71-476f68b21047"
    }
   },
   "source": [
    "### Question 5 - Bias-Variance Tradeoff\n",
    "*When the model is trained with a maximum depth of 1, does the model suffer from high bias or from high variance? How about when the model is trained with a maximum depth of 10? What visual cues in the graph justify your conclusions?*  \n",
    "**Hint:** How do you know when a model is suffering from high bias or high variance?"
   ]
  },
  {
   "cell_type": "markdown",
   "metadata": {
    "nbpresent": {
     "id": "41e715c4-7e0e-4e94-8daf-c2fac08dbc77"
    }
   },
   "source": [
    "**Answer: **\n",
    "\n",
    "Depth of 1 makes the model high variance, because the score is very low, meaning it's unlikely to sufficiently make good prediction.\n",
    "\n",
    "Depth of 10 makes the model suffering from high bias because the difference of score between training set and validation is big and increases as the depth increases.\n",
    "\n",
    "High variance \n",
    "High bias is produced when trainig score and test score has wide gap."
   ]
  },
  {
   "cell_type": "markdown",
   "metadata": {
    "nbpresent": {
     "id": "32dc6357-d108-4a65-b464-f77907c10c07"
    }
   },
   "source": [
    "### Question 6 - Best-Guess Optimal Model\n",
    "*Which maximum depth do you think results in a model that best generalizes to unseen data? What intuition lead you to this answer?*"
   ]
  },
  {
   "cell_type": "markdown",
   "metadata": {
    "nbpresent": {
     "id": "f3643886-c5ff-4f15-88f8-3f2c71a9b1e9"
    }
   },
   "source": [
    "**Answer: **\n",
    "\n",
    "Depth of 3.\n",
    "\n",
    "It's a local peak for validtion score, and right before the gap starts widening."
   ]
  },
  {
   "cell_type": "markdown",
   "metadata": {
    "nbpresent": {
     "id": "89184848-b71e-404b-85f1-b9c21c234cdc"
    }
   },
   "source": [
    "-----\n",
    "\n",
    "## Evaluating Model Performance\n",
    "In this final section of the project, you will construct a model and make a prediction on the client's feature set using an optimized model from `fit_model`."
   ]
  },
  {
   "cell_type": "markdown",
   "metadata": {
    "nbpresent": {
     "id": "a7b3f3bb-e078-431f-a580-0aeb556a542f"
    }
   },
   "source": [
    "### Question 7 - Grid Search\n",
    "*What is the grid search technique and how it can be applied to optimize a learning algorithm?*"
   ]
  },
  {
   "cell_type": "markdown",
   "metadata": {
    "nbpresent": {
     "id": "8b98bf13-2d5e-4dc3-9b4c-b2f58b7a4472"
    }
   },
   "source": [
    "**Answer: **\n",
    "\n",
    "Grid search is to search through a specified subset of hyperparameter space of a learning algorithm to find the parameters yield the minimun loss function value.\n",
    "\n",
    "Grid-search is performed by simply picking a list of values for each parameter, and trying out all possible combinations of these values. In the end, it gives the best set of paramters for the machine learning model.\n"
   ]
  },
  {
   "cell_type": "markdown",
   "metadata": {
    "nbpresent": {
     "id": "d9ec16a1-d5ae-4f67-a1b6-e6bd1321a8a9"
    }
   },
   "source": [
    "### Question 8 - Cross-Validation\n",
    "*What is the k-fold cross-validation training technique? What benefit does this technique provide for grid search when optimizing a model?*  \n",
    "**Hint:** Much like the reasoning behind having a testing set, what could go wrong with using grid search without a cross-validated set?"
   ]
  },
  {
   "cell_type": "markdown",
   "metadata": {
    "nbpresent": {
     "id": "5317620f-df41-46b7-a04d-d3df998c5650"
    }
   },
   "source": [
    "**Answer: **\n",
    "\n",
    "It helps to generate the most number of training and test data set, so that to avoid over-fitting. "
   ]
  },
  {
   "cell_type": "markdown",
   "metadata": {
    "nbpresent": {
     "id": "91b54d0d-464c-4e66-8eef-8ae0e4bf12d6"
    }
   },
   "source": [
    "### Implementation: Fitting a Model\n",
    "Your final implementation requires that you bring everything together and train a model using the **decision tree algorithm**. To ensure that you are producing an optimized model, you will train the model using the grid search technique to optimize the `'max_depth'` parameter for the decision tree. The `'max_depth'` parameter can be thought of as how many questions the decision tree algorithm is allowed to ask about the data before making a prediction. Decision trees are part of a class of algorithms called *supervised learning algorithms*.\n",
    "\n",
    "For the `fit_model` function in the code cell below, you will need to implement the following:\n",
    "- Use [`DecisionTreeRegressor`](http://scikit-learn.org/stable/modules/generated/sklearn.tree.DecisionTreeRegressor.html) from `sklearn.tree` to create a decision tree regressor object.\n",
    "  - Assign this object to the `'regressor'` variable.\n",
    "- Create a dictionary for `'max_depth'` with the values from 1 to 10, and assign this to the `'params'` variable.\n",
    "- Use [`make_scorer`](http://scikit-learn.org/stable/modules/generated/sklearn.metrics.make_scorer.html) from `sklearn.metrics` to create a scoring function object.\n",
    "  - Pass the `performance_metric` function as a parameter to the object.\n",
    "  - Assign this scoring function to the `'scoring_fnc'` variable.\n",
    "- Use [`GridSearchCV`](http://scikit-learn.org/stable/modules/generated/sklearn.grid_search.GridSearchCV.html) from `sklearn.grid_search` to create a grid search object.\n",
    "  - Pass the variables `'regressor'`, `'params'`, `'scoring_fnc'`, and `'cv_sets'` as parameters to the object. \n",
    "  - Assign the `GridSearchCV` object to the `'grid'` variable."
   ]
  },
  {
   "cell_type": "code",
   "execution_count": 22,
   "metadata": {
    "collapsed": false,
    "nbpresent": {
     "id": "7cf601d3-dcff-4619-a2a2-10961cfd3745"
    }
   },
   "outputs": [],
   "source": [
    "# TODO: Import 'make_scorer', 'DecisionTreeRegressor', and 'GridSearchCV'\n",
    "from sklearn.metrics import make_scorer\n",
    "from sklearn.tree import DecisionTreeRegressor\n",
    "from sklearn.grid_search import GridSearchCV\n",
    "\n",
    "def fit_model(X, y):\n",
    "    \"\"\" Performs grid search over the 'max_depth' parameter for a \n",
    "        decision tree regressor trained on the input data [X, y]. \"\"\"\n",
    "    \n",
    "    # Create cross-validation sets from the training data\n",
    "    cv_sets = ShuffleSplit(X.shape[0], n_iter = 10, test_size = 0.20, random_state = 0)\n",
    "\n",
    "    # TODO: Create a decision tree regressor object\n",
    "    regressor = DecisionTreeRegressor()\n",
    "\n",
    "    # TODO: Create a dictionary for the parameter 'max_depth' with a range from 1 to 10\n",
    "    params = {'max_depth':[1,10]}\n",
    "\n",
    "    # TODO: Transform 'performance_metric' into a scoring function using 'make_scorer' \n",
    "    scoring_fnc = make_scorer(performance_metric)\n",
    "\n",
    "    # TODO: Create the grid search object\n",
    "    grid = GridSearchCV(regressor,params,scoring_fnc)\n",
    "\n",
    "    # Fit the grid search object to the data to compute the optimal model\n",
    "    grid = grid.fit(X, y)\n",
    "\n",
    "    # Return the optimal model after fitting the data\n",
    "    return grid.best_estimator_"
   ]
  },
  {
   "cell_type": "markdown",
   "metadata": {
    "nbpresent": {
     "id": "0c258966-cc14-4ee4-8421-2e72213e58a2"
    }
   },
   "source": [
    "### Making Predictions\n",
    "Once a model has been trained on a given set of data, it can now be used to make predictions on new sets of input data. In the case of a *decision tree regressor*, the model has learned *what the best questions to ask about the input data are*, and can respond with a prediction for the **target variable**. You can use these predictions to gain information about data where the value of the target variable is unknown — such as data the model was not trained on."
   ]
  },
  {
   "cell_type": "markdown",
   "metadata": {
    "nbpresent": {
     "id": "da3614b6-dc2e-4f21-9770-eedde8c95936"
    }
   },
   "source": [
    "### Question 9 - Optimal Model\n",
    "_What maximum depth does the optimal model have? How does this result compare to your guess in **Question 6**?_  \n",
    "\n",
    "Run the code block below to fit the decision tree regressor to the training data and produce an optimal model."
   ]
  },
  {
   "cell_type": "code",
   "execution_count": 23,
   "metadata": {
    "collapsed": false,
    "nbpresent": {
     "id": "563c7069-0e99-4135-b0ed-962b06cbdb47"
    },
    "scrolled": true
   },
   "outputs": [
    {
     "name": "stdout",
     "output_type": "stream",
     "text": [
      "Parameter 'max_depth' is 10 for the optimal model.\n"
     ]
    }
   ],
   "source": [
    "# Fit the training data to the model using grid search\n",
    "reg = fit_model(X_train, y_train)\n",
    "\n",
    "# Produce the value for 'max_depth'\n",
    "print \"Parameter 'max_depth' is {} for the optimal model.\".format(reg.get_params()['max_depth'])"
   ]
  },
  {
   "cell_type": "markdown",
   "metadata": {
    "nbpresent": {
     "id": "811e361f-1931-424c-b495-15310582a98c"
    }
   },
   "source": [
    "**Answer: **\n",
    "\n",
    "The optimal max_depth is 10 for the optimal model.\n",
    "\n",
    "It's different from question 6. "
   ]
  },
  {
   "cell_type": "markdown",
   "metadata": {
    "nbpresent": {
     "id": "695477f0-9395-4217-b153-cb6d9be32526"
    }
   },
   "source": [
    "### Question 10 - Predicting Selling Prices\n",
    "Imagine that you were a real estate agent in the Boston area looking to use this model to help price homes owned by your clients that they wish to sell. You have collected the following information from three of your clients:\n",
    "\n",
    "| Feature | Client 1 | Client 2 | Client 3 |\n",
    "| :---: | :---: | :---: | :---: |\n",
    "| Total number of rooms in home | 5 rooms | 4 rooms | 8 rooms |\n",
    "| Neighborhood poverty level (as %) | 17% | 32% | 3% |\n",
    "| Student-teacher ratio of nearby schools | 15-to-1 | 22-to-1 | 12-to-1 |\n",
    "*What price would you recommend each client sell his/her home at? Do these prices seem reasonable given the values for the respective features?*  \n",
    "**Hint:** Use the statistics you calculated in the **Data Exploration** section to help justify your response.  \n",
    "\n",
    "Run the code block below to have your optimized model make predictions for each client's home."
   ]
  },
  {
   "cell_type": "code",
   "execution_count": 24,
   "metadata": {
    "collapsed": false,
    "nbpresent": {
     "id": "618ad771-86ca-4778-8ea5-89d9876a74a0"
    }
   },
   "outputs": [
    {
     "name": "stdout",
     "output_type": "stream",
     "text": [
      "Predicted selling price for Client 1's home: $418,010.53\n",
      "Predicted selling price for Client 2's home: $302,400.00\n",
      "Predicted selling price for Client 3's home: $789,600.00\n"
     ]
    }
   ],
   "source": [
    "# Produce a matrix for client data\n",
    "client_data = [[5, 17, 15], # Client 1\n",
    "               [4, 32, 22], # Client 2\n",
    "               [8, 3, 12]]  # Client 3\n",
    "\n",
    "# Show predictions\n",
    "for i, price in enumerate(reg.predict(client_data)):\n",
    "    print \"Predicted selling price for Client {}'s home: ${:,.2f}\".format(i+1, price)"
   ]
  },
  {
   "cell_type": "markdown",
   "metadata": {
    "nbpresent": {
     "id": "ef90f0a8-b1a0-48ef-b7e2-ce17aa3cc860"
    }
   },
   "source": [
    "**Answer: **\n",
    "It's recommended for clinet 1 to sell at $418,010.53. Client 2 to sell at $302,400. Client 3 to sell at $789,600.\n",
    "\n",
    "It seems reasonable given the medium selling price is $438,900, and maximun house price is $1 million. Client 1 has a fairly common house, and its predicted price is close to the medium price in record. "
   ]
  },
  {
   "cell_type": "markdown",
   "metadata": {
    "nbpresent": {
     "id": "f43a4420-a08c-4ec3-a5a3-cd83af6636c8"
    }
   },
   "source": [
    "### Sensitivity\n",
    "An optimal model is not necessarily a robust model. Sometimes, a model is either too complex or too simple to sufficiently generalize to new data. Sometimes, a model could use a learning algorithm that is not appropriate for the structure of the data given. Other times, the data itself could be too noisy or contain too few samples to allow a model to adequately capture the target variable — i.e., the model is underfitted. Run the code cell below to run the `fit_model` function ten times with different training and testing sets to see how the prediction for a specific client changes with the data it's trained on."
   ]
  },
  {
   "cell_type": "code",
   "execution_count": 27,
   "metadata": {
    "collapsed": false,
    "nbpresent": {
     "id": "ae61b6fe-1e98-4e25-bb36-489a703c8b35"
    }
   },
   "outputs": [
    {
     "name": "stdout",
     "output_type": "stream",
     "text": [
      "Trial 1: $426,300.00\n",
      "Trial 2: $397,950.00\n",
      "Trial 3: $405,825.00\n",
      "Trial 4: $367,500.00\n",
      "Trial 5: $396,480.00\n",
      "Trial 6: $435,600.00\n",
      "Trial 7: $367,500.00\n",
      "Trial 8: $437,220.00\n",
      "Trial 9: $367,500.00\n",
      "Trial 10: $393,750.00\n",
      "\n",
      "Range in prices: $69,720.00\n"
     ]
    }
   ],
   "source": [
    "vs.PredictTrials(features, prices, fit_model, client_data)"
   ]
  },
  {
   "cell_type": "markdown",
   "metadata": {
    "nbpresent": {
     "id": "2b6516c6-0a35-463c-9c0a-d455d238be6c"
    }
   },
   "source": [
    "### Question 11 - Applicability\n",
    "*In a few sentences, discuss whether the constructed model should or should not be used in a real-world setting.*  \n",
    "**Hint:** Some questions to answering:\n",
    "- *How relevant today is data that was collected from 1978?*\n",
    "- *Are the features present in the data sufficient to describe a home?*\n",
    "- *Is the model robust enough to make consistent predictions?*\n",
    "- *Would data collected in an urban city like Boston be applicable in a rural city?*"
   ]
  },
  {
   "cell_type": "markdown",
   "metadata": {
    "nbpresent": {
     "id": "957f5494-e0ba-4515-8b3f-735d04b86929"
    }
   },
   "source": [
    "**Answer: **"
   ]
  },
  {
   "cell_type": "code",
   "execution_count": 2,
   "metadata": {
    "collapsed": false
   },
   "outputs": [
    {
     "data": {
      "text/plain": [
       "'It is still relevant. The features determining a house price in 1978 is still the same as today. So, we can use the same model to predict house price. '"
      ]
     },
     "execution_count": 2,
     "metadata": {},
     "output_type": "execute_result"
    }
   ],
   "source": [
    "\"It is still relevant. The features determining a house price in 1978 is still the same as today. So, we can use the same model to predict house price. \""
   ]
  },
  {
   "cell_type": "code",
   "execution_count": null,
   "metadata": {
    "collapsed": true
   },
   "outputs": [],
   "source": [
    "\"Yes. The model has R^2 of 92%, which suggests the model is strong enough.\""
   ]
  },
  {
   "cell_type": "code",
   "execution_count": null,
   "metadata": {
    "collapsed": true
   },
   "outputs": [],
   "source": [
    "\"The model is not a robust model, and I would not recommend it for practical use. Based on the sensitivity test, the range is 69720, and that's 15% of medium. The possible variation is too big to be trustworhty prediction.\""
   ]
  },
  {
   "cell_type": "code",
   "execution_count": 3,
   "metadata": {
    "collapsed": false
   },
   "outputs": [
    {
     "data": {
      "text/plain": [
       "\"No. It's unlikely to be applicable. 1) The base price is different. A city house with same feature value may have very different price. 2) The features may be different. For example, the size of yard may be a prominent feature, and it was not caputured in city data.\""
      ]
     },
     "execution_count": 3,
     "metadata": {},
     "output_type": "execute_result"
    }
   ],
   "source": [
    "\"No. It's unlikely to be applicable. 1) The base price is different. A city house with same feature value may have very different price. 2) The features may be different. For example, the size of yard may be a prominent feature, and it was not caputured in city data.\""
   ]
  },
  {
   "cell_type": "code",
   "execution_count": null,
   "metadata": {
    "collapsed": true
   },
   "outputs": [],
   "source": []
  },
  {
   "cell_type": "code",
   "execution_count": null,
   "metadata": {
    "collapsed": true
   },
   "outputs": [],
   "source": []
  },
  {
   "cell_type": "code",
   "execution_count": null,
   "metadata": {
    "collapsed": true
   },
   "outputs": [],
   "source": []
  },
  {
   "cell_type": "code",
   "execution_count": null,
   "metadata": {
    "collapsed": true
   },
   "outputs": [],
   "source": []
  },
  {
   "cell_type": "code",
   "execution_count": null,
   "metadata": {
    "collapsed": true
   },
   "outputs": [],
   "source": []
  },
  {
   "cell_type": "code",
   "execution_count": null,
   "metadata": {
    "collapsed": true
   },
   "outputs": [],
   "source": []
  },
  {
   "cell_type": "code",
   "execution_count": null,
   "metadata": {
    "collapsed": true
   },
   "outputs": [],
   "source": []
  },
  {
   "cell_type": "code",
   "execution_count": null,
   "metadata": {
    "collapsed": true
   },
   "outputs": [],
   "source": []
  },
  {
   "cell_type": "code",
   "execution_count": null,
   "metadata": {
    "collapsed": true
   },
   "outputs": [],
   "source": []
  },
  {
   "cell_type": "code",
   "execution_count": null,
   "metadata": {
    "collapsed": true
   },
   "outputs": [],
   "source": []
  },
  {
   "cell_type": "code",
   "execution_count": null,
   "metadata": {
    "collapsed": true
   },
   "outputs": [],
   "source": []
  },
  {
   "cell_type": "code",
   "execution_count": null,
   "metadata": {
    "collapsed": true
   },
   "outputs": [],
   "source": []
  },
  {
   "cell_type": "code",
   "execution_count": null,
   "metadata": {
    "collapsed": true
   },
   "outputs": [],
   "source": []
  },
  {
   "cell_type": "code",
   "execution_count": null,
   "metadata": {
    "collapsed": true
   },
   "outputs": [],
   "source": []
  },
  {
   "cell_type": "code",
   "execution_count": null,
   "metadata": {
    "collapsed": true
   },
   "outputs": [],
   "source": []
  },
  {
   "cell_type": "code",
   "execution_count": null,
   "metadata": {
    "collapsed": true
   },
   "outputs": [],
   "source": []
  },
  {
   "cell_type": "code",
   "execution_count": null,
   "metadata": {
    "collapsed": true
   },
   "outputs": [],
   "source": []
  },
  {
   "cell_type": "code",
   "execution_count": null,
   "metadata": {
    "collapsed": true
   },
   "outputs": [],
   "source": []
  },
  {
   "cell_type": "code",
   "execution_count": null,
   "metadata": {
    "collapsed": true
   },
   "outputs": [],
   "source": []
  },
  {
   "cell_type": "code",
   "execution_count": null,
   "metadata": {
    "collapsed": true
   },
   "outputs": [],
   "source": []
  },
  {
   "cell_type": "code",
   "execution_count": null,
   "metadata": {
    "collapsed": true
   },
   "outputs": [],
   "source": []
  },
  {
   "cell_type": "code",
   "execution_count": null,
   "metadata": {
    "collapsed": false
   },
   "outputs": [],
   "source": []
  },
  {
   "cell_type": "code",
   "execution_count": null,
   "metadata": {
    "collapsed": true
   },
   "outputs": [],
   "source": []
  },
  {
   "cell_type": "code",
   "execution_count": null,
   "metadata": {
    "collapsed": true
   },
   "outputs": [],
   "source": []
  },
  {
   "cell_type": "code",
   "execution_count": null,
   "metadata": {
    "collapsed": true
   },
   "outputs": [],
   "source": []
  },
  {
   "cell_type": "code",
   "execution_count": null,
   "metadata": {
    "collapsed": true
   },
   "outputs": [],
   "source": []
  },
  {
   "cell_type": "code",
   "execution_count": null,
   "metadata": {
    "collapsed": true
   },
   "outputs": [],
   "source": []
  },
  {
   "cell_type": "code",
   "execution_count": null,
   "metadata": {
    "collapsed": true
   },
   "outputs": [],
   "source": []
  },
  {
   "cell_type": "code",
   "execution_count": null,
   "metadata": {
    "collapsed": true
   },
   "outputs": [],
   "source": []
  },
  {
   "cell_type": "code",
   "execution_count": null,
   "metadata": {
    "collapsed": true
   },
   "outputs": [],
   "source": []
  }
 ],
 "metadata": {
  "anaconda-cloud": {},
  "kernelspec": {
   "display_name": "Python [default]",
   "language": "python",
   "name": "python2"
  },
  "language_info": {
   "codemirror_mode": {
    "name": "ipython",
    "version": 2
   },
   "file_extension": ".py",
   "mimetype": "text/x-python",
   "name": "python",
   "nbconvert_exporter": "python",
   "pygments_lexer": "ipython2",
   "version": "2.7.12"
  },
  "nbpresent": {
   "slides": {
    "001b3d1f-e91b-4993-b4ae-f3bbfa013b98": {
     "id": "001b3d1f-e91b-4993-b4ae-f3bbfa013b98",
     "prev": "04c8cd4e-df14-4b33-8d98-e9143eddb38e",
     "regions": {
      "77a5080a-9c17-47c6-ab69-1e42ed9e4c37": {
       "attrs": {
        "height": 0.8,
        "width": 0.8,
        "x": 0.1,
        "y": 0.1
       },
       "content": {
        "cell": "ecbca59c-86bb-46c1-a26d-bc05a6767e72",
        "part": "whole"
       },
       "id": "77a5080a-9c17-47c6-ab69-1e42ed9e4c37"
      }
     }
    },
    "04c8cd4e-df14-4b33-8d98-e9143eddb38e": {
     "id": "04c8cd4e-df14-4b33-8d98-e9143eddb38e",
     "prev": "2377a970-edb9-4bed-a637-ff3fa79c29d5",
     "regions": {
      "f9df8a4e-c1a7-4d68-9a4a-705c28760ea3": {
       "attrs": {
        "height": 0.8,
        "width": 0.8,
        "x": 0.1,
        "y": 0.1
       },
       "content": {
        "cell": "a03bb290-02ca-4208-9099-54b22d9bb3ba",
        "part": "whole"
       },
       "id": "f9df8a4e-c1a7-4d68-9a4a-705c28760ea3"
      }
     }
    },
    "07075ca9-d23e-46dc-b6ee-2620ce046844": {
     "id": "07075ca9-d23e-46dc-b6ee-2620ce046844",
     "prev": "001b3d1f-e91b-4993-b4ae-f3bbfa013b98",
     "regions": {
      "8d84155a-ccf7-478b-91d7-707a64f34775": {
       "attrs": {
        "height": 0.8,
        "width": 0.8,
        "x": 0.1,
        "y": 0.1
       },
       "content": {
        "cell": "76363ff2-8acd-4e39-84e1-fc48f7591f76",
        "part": "whole"
       },
       "id": "8d84155a-ccf7-478b-91d7-707a64f34775"
      }
     }
    },
    "09c3728d-3382-4fa2-b45f-0a6c08c7e807": {
     "id": "09c3728d-3382-4fa2-b45f-0a6c08c7e807",
     "prev": "e34ad7b8-6b90-41c8-b193-7936c73cb9e8",
     "regions": {
      "0d0ec311-627d-4d81-b181-2df5f4977d19": {
       "attrs": {
        "height": 0.8,
        "width": 0.8,
        "x": 0.1,
        "y": 0.1
       },
       "content": {
        "cell": "618ad771-86ca-4778-8ea5-89d9876a74a0",
        "part": "whole"
       },
       "id": "0d0ec311-627d-4d81-b181-2df5f4977d19"
      }
     }
    },
    "0bcf284f-13d5-4afb-9073-ac6c81d44491": {
     "id": "0bcf284f-13d5-4afb-9073-ac6c81d44491",
     "prev": "903e1981-d620-475f-9378-25359a6d02e0",
     "regions": {
      "1c41259d-ae83-4f00-9cd5-92c1a2a8b556": {
       "attrs": {
        "height": 0.8,
        "width": 0.8,
        "x": 0.1,
        "y": 0.1
       },
       "content": {
        "cell": "28494c6a-e4a8-4d71-b356-73b123c240d5",
        "part": "whole"
       },
       "id": "1c41259d-ae83-4f00-9cd5-92c1a2a8b556"
      }
     }
    },
    "11bd18f5-3170-4281-963f-9d584517f18b": {
     "id": "11bd18f5-3170-4281-963f-9d584517f18b",
     "prev": "8e0a1052-29dd-434d-8a5c-7a4975cb28b1",
     "regions": {
      "d10999cd-cde7-4a01-9610-64d3bfb2c2b4": {
       "attrs": {
        "height": 0.8,
        "width": 0.8,
        "x": 0.1,
        "y": 0.1
       },
       "content": {
        "cell": "563c7069-0e99-4135-b0ed-962b06cbdb47",
        "part": "whole"
       },
       "id": "d10999cd-cde7-4a01-9610-64d3bfb2c2b4"
      }
     }
    },
    "12313078-b176-4428-96e4-8956a7805848": {
     "id": "12313078-b176-4428-96e4-8956a7805848",
     "prev": "92f8c3cd-108a-4bfb-93c4-eeae7f3488cc",
     "regions": {
      "f1e23553-505f-4f10-8fb8-33074f40f200": {
       "attrs": {
        "height": 0.8,
        "width": 0.8,
        "x": 0.1,
        "y": 0.1
       },
       "content": {
        "cell": "a7b3f3bb-e078-431f-a580-0aeb556a542f",
        "part": "whole"
       },
       "id": "f1e23553-505f-4f10-8fb8-33074f40f200"
      }
     }
    },
    "1717b065-15b9-4950-9c56-969b28c45860": {
     "id": "1717b065-15b9-4950-9c56-969b28c45860",
     "prev": "5331a7a1-81ff-41ff-96d8-808d20c3a0cf",
     "regions": {
      "310f5c68-b131-4241-bf60-dd32ffd9b86f": {
       "attrs": {
        "height": 0.8,
        "width": 0.8,
        "x": 0.1,
        "y": 0.1
       },
       "content": {
        "cell": "e14feed4-1f1c-445e-95ce-3970994cd0ee",
        "part": "whole"
       },
       "id": "310f5c68-b131-4241-bf60-dd32ffd9b86f"
      }
     }
    },
    "1a8358d9-9713-40fb-ae66-8631d33306c3": {
     "id": "1a8358d9-9713-40fb-ae66-8631d33306c3",
     "prev": "cb7fb006-78a8-4fc7-8ebc-e3d3a75a1038",
     "regions": {
      "a5249ca0-5da4-4929-a794-ba3829568e8f": {
       "attrs": {
        "height": 0.8,
        "width": 0.8,
        "x": 0.1,
        "y": 0.1
       },
       "content": {
        "cell": "ed3e0089-d010-44f9-8b71-476f68b21047",
        "part": "whole"
       },
       "id": "a5249ca0-5da4-4929-a794-ba3829568e8f"
      }
     }
    },
    "2377a970-edb9-4bed-a637-ff3fa79c29d5": {
     "id": "2377a970-edb9-4bed-a637-ff3fa79c29d5",
     "prev": "63f83459-0894-4a51-b878-638c9bbcffe9",
     "regions": {
      "a9a2e848-0e6f-4858-86d6-bc8a63cf98d4": {
       "attrs": {
        "height": 0.8,
        "width": 0.8,
        "x": 0.1,
        "y": 0.1
       },
       "content": {
        "cell": "f2822bcd-cfce-413e-9170-925c4ad6dc2a",
        "part": "whole"
       },
       "id": "a9a2e848-0e6f-4858-86d6-bc8a63cf98d4"
      }
     }
    },
    "239663a2-0691-4994-8173-edb6261da9b6": {
     "id": "239663a2-0691-4994-8173-edb6261da9b6",
     "prev": "5b431442-eba8-45a3-9bb2-eaad02dd7fce",
     "regions": {
      "254e69e2-50d9-4a40-bc85-4dbf3bad1622": {
       "attrs": {
        "height": 0.8,
        "width": 0.8,
        "x": 0.1,
        "y": 0.1
       },
       "content": {
        "cell": "97e077d0-ad20-4138-b672-b9a77d9c0cf9",
        "part": "whole"
       },
       "id": "254e69e2-50d9-4a40-bc85-4dbf3bad1622"
      }
     }
    },
    "25df7651-9e11-43be-993f-8162d34e3ea0": {
     "id": "25df7651-9e11-43be-993f-8162d34e3ea0",
     "prev": "69e80d21-c419-4dc5-8ca5-a18229688b0b",
     "regions": {
      "de187392-30c4-4508-b90c-7faf784d70fa": {
       "attrs": {
        "height": 0.8,
        "width": 0.8,
        "x": 0.1,
        "y": 0.1
       },
       "content": {
        "cell": "32dc6357-d108-4a65-b464-f77907c10c07",
        "part": "whole"
       },
       "id": "de187392-30c4-4508-b90c-7faf784d70fa"
      }
     }
    },
    "25eab09b-af06-4654-9eff-c8aefdd9ab9c": {
     "id": "25eab09b-af06-4654-9eff-c8aefdd9ab9c",
     "prev": "dcb49625-c12c-485e-9ef4-d9f35e6c0e7a",
     "regions": {
      "18eaa037-5983-452b-9680-ff763b3e4966": {
       "attrs": {
        "height": 0.8,
        "width": 0.8,
        "x": 0.1,
        "y": 0.1
       },
       "content": {
        "cell": "45cac463-a1dc-4065-9def-b86cb5737a8f",
        "part": "whole"
       },
       "id": "18eaa037-5983-452b-9680-ff763b3e4966"
      }
     }
    },
    "28d1af33-f4d2-42ce-8e23-0f1f34fb7e21": {
     "id": "28d1af33-f4d2-42ce-8e23-0f1f34fb7e21",
     "prev": "239663a2-0691-4994-8173-edb6261da9b6",
     "regions": {
      "1a1b6ef7-8858-4a75-bc73-d3d90a8a4581": {
       "attrs": {
        "height": 0.8,
        "width": 0.8,
        "x": 0.1,
        "y": 0.1
       },
       "content": {
        "cell": "c6a241b7-0666-4dac-bdc8-c00149dc694e",
        "part": "whole"
       },
       "id": "1a1b6ef7-8858-4a75-bc73-d3d90a8a4581"
      }
     }
    },
    "35282a81-9898-4342-9d07-1b6143193001": {
     "id": "35282a81-9898-4342-9d07-1b6143193001",
     "prev": "c295fb5a-d8be-4476-bba5-7d0e161d8aac",
     "regions": {
      "8c3c8323-a33c-4ecf-b0e3-6bf620f51593": {
       "attrs": {
        "height": 0.8,
        "width": 0.8,
        "x": 0.1,
        "y": 0.1
       },
       "content": {
        "cell": "ae61b6fe-1e98-4e25-bb36-489a703c8b35",
        "part": "whole"
       },
       "id": "8c3c8323-a33c-4ecf-b0e3-6bf620f51593"
      }
     }
    },
    "39739b0d-5abc-4986-9199-6407b61366cb": {
     "id": "39739b0d-5abc-4986-9199-6407b61366cb",
     "prev": "c5367e89-b0a0-42ad-8f0c-2785258515ed",
     "regions": {
      "b6791929-e7ba-4961-9e3a-ad945726cbac": {
       "attrs": {
        "height": 0.8,
        "width": 0.8,
        "x": 0.1,
        "y": 0.1
       },
       "content": {
        "cell": "91b54d0d-464c-4e66-8eef-8ae0e4bf12d6",
        "part": "whole"
       },
       "id": "b6791929-e7ba-4961-9e3a-ad945726cbac"
      }
     }
    },
    "3d3e68ee-810d-4f1b-a914-89e1a9a32c3e": {
     "id": "3d3e68ee-810d-4f1b-a914-89e1a9a32c3e",
     "prev": null,
     "regions": {
      "98ce8f6e-12eb-45c4-9ae2-1524c450b788": {
       "attrs": {
        "height": 0.8,
        "width": 0.8,
        "x": 0.1,
        "y": 0.1
       },
       "content": {
        "cell": "26f577e3-1615-4464-9910-d80075b81559",
        "part": "whole"
       },
       "id": "98ce8f6e-12eb-45c4-9ae2-1524c450b788"
      }
     }
    },
    "438f42ed-7d24-4eac-8bbe-d608ff3724ba": {
     "id": "438f42ed-7d24-4eac-8bbe-d608ff3724ba",
     "prev": "39739b0d-5abc-4986-9199-6407b61366cb",
     "regions": {
      "7fc2afbe-7674-4a1e-9f06-83495543c386": {
       "attrs": {
        "height": 0.8,
        "width": 0.8,
        "x": 0.1,
        "y": 0.1
       },
       "content": {
        "cell": "7cf601d3-dcff-4619-a2a2-10961cfd3745",
        "part": "whole"
       },
       "id": "7fc2afbe-7674-4a1e-9f06-83495543c386"
      }
     }
    },
    "4a26c1cf-df42-49b4-b257-b6d6482cd2ab": {
     "id": "4a26c1cf-df42-49b4-b257-b6d6482cd2ab",
     "prev": "09c3728d-3382-4fa2-b45f-0a6c08c7e807",
     "regions": {
      "d35884fa-edcd-4b4d-a65a-7c0dc33d2cdf": {
       "attrs": {
        "height": 0.8,
        "width": 0.8,
        "x": 0.1,
        "y": 0.1
       },
       "content": {
        "cell": "ef90f0a8-b1a0-48ef-b7e2-ce17aa3cc860",
        "part": "whole"
       },
       "id": "d35884fa-edcd-4b4d-a65a-7c0dc33d2cdf"
      }
     }
    },
    "4e8d4daf-6314-4d8d-81f9-e4e04011e641": {
     "id": "4e8d4daf-6314-4d8d-81f9-e4e04011e641",
     "prev": "11bd18f5-3170-4281-963f-9d584517f18b",
     "regions": {
      "bc25c106-e8d3-4586-8ba9-b14998788605": {
       "attrs": {
        "height": 0.8,
        "width": 0.8,
        "x": 0.1,
        "y": 0.1
       },
       "content": {
        "cell": "811e361f-1931-424c-b495-15310582a98c",
        "part": "whole"
       },
       "id": "bc25c106-e8d3-4586-8ba9-b14998788605"
      }
     }
    },
    "5331a7a1-81ff-41ff-96d8-808d20c3a0cf": {
     "id": "5331a7a1-81ff-41ff-96d8-808d20c3a0cf",
     "prev": "bc6ed4b4-755e-4125-a107-13a11ca9d6a5",
     "regions": {
      "73276032-0d0f-4c36-ba32-08a7cb78c917": {
       "attrs": {
        "height": 0.8,
        "width": 0.8,
        "x": 0.1,
        "y": 0.1
       },
       "content": {
        "cell": "9afc27d5-072b-4d28-baf4-b62909118551",
        "part": "whole"
       },
       "id": "73276032-0d0f-4c36-ba32-08a7cb78c917"
      }
     }
    },
    "542b024f-283c-4d34-bd36-363a9d3a271b": {
     "id": "542b024f-283c-4d34-bd36-363a9d3a271b",
     "prev": "c39db887-12c1-413a-bcd5-560cf05ee57a",
     "regions": {
      "5c574f0a-f464-47c0-bfa1-a5a1b3d45a3d": {
       "attrs": {
        "height": 0.8,
        "width": 0.8,
        "x": 0.1,
        "y": 0.1
       },
       "content": {
        "cell": "957f5494-e0ba-4515-8b3f-735d04b86929",
        "part": "whole"
       },
       "id": "5c574f0a-f464-47c0-bfa1-a5a1b3d45a3d"
      }
     }
    },
    "5a03e416-ef6e-4be5-8fe2-f2ffe9286f26": {
     "id": "5a03e416-ef6e-4be5-8fe2-f2ffe9286f26",
     "prev": "3d3e68ee-810d-4f1b-a914-89e1a9a32c3e",
     "regions": {
      "439a91f7-bdb5-404e-adaf-34100f83a9bc": {
       "attrs": {
        "height": 0.8,
        "width": 0.8,
        "x": 0.1,
        "y": 0.1
       },
       "content": {
        "cell": "15b1187b-f574-4cc8-b2b8-5373e97ec546",
        "part": "whole"
       },
       "id": "439a91f7-bdb5-404e-adaf-34100f83a9bc"
      }
     }
    },
    "5b431442-eba8-45a3-9bb2-eaad02dd7fce": {
     "id": "5b431442-eba8-45a3-9bb2-eaad02dd7fce",
     "prev": "8abf0287-c39f-491c-9973-fc3eb93e2b47",
     "regions": {
      "4af51c9e-4f23-4f24-8cc6-2bfb8d6718cf": {
       "attrs": {
        "height": 0.8,
        "width": 0.8,
        "x": 0.1,
        "y": 0.1
       },
       "content": {
        "cell": "8e032d3c-a2a7-4c50-9703-72a3b43c5da3",
        "part": "whole"
       },
       "id": "4af51c9e-4f23-4f24-8cc6-2bfb8d6718cf"
      }
     }
    },
    "5c32198c-ce62-4041-9249-b0edf99ba54f": {
     "id": "5c32198c-ce62-4041-9249-b0edf99ba54f",
     "prev": "12313078-b176-4428-96e4-8956a7805848",
     "regions": {
      "b1718726-9b12-48a1-93fb-28438692e5af": {
       "attrs": {
        "height": 0.8,
        "width": 0.8,
        "x": 0.1,
        "y": 0.1
       },
       "content": {
        "cell": "8b98bf13-2d5e-4dc3-9b4c-b2f58b7a4472",
        "part": "whole"
       },
       "id": "b1718726-9b12-48a1-93fb-28438692e5af"
      }
     }
    },
    "63f83459-0894-4a51-b878-638c9bbcffe9": {
     "id": "63f83459-0894-4a51-b878-638c9bbcffe9",
     "prev": "da45f792-7e8c-4bc0-acbd-dd2901583872",
     "regions": {
      "5ff45407-4b99-4289-8c20-3ccc29b83e34": {
       "attrs": {
        "height": 0.8,
        "width": 0.8,
        "x": 0.1,
        "y": 0.1
       },
       "content": {
        "cell": "1901ff0d-9170-4273-a140-27af2f2f8d0e",
        "part": "whole"
       },
       "id": "5ff45407-4b99-4289-8c20-3ccc29b83e34"
      }
     }
    },
    "674855be-5fc5-450d-a91c-7fef532d3548": {
     "id": "674855be-5fc5-450d-a91c-7fef532d3548",
     "prev": "25eab09b-af06-4654-9eff-c8aefdd9ab9c",
     "regions": {
      "8eebfc39-f349-4a83-99ac-f3228922a600": {
       "attrs": {
        "height": 0.8,
        "width": 0.8,
        "x": 0.1,
        "y": 0.1
       },
       "content": {
        "cell": "bb95cc12-c01a-40dc-9149-21a6654c2291",
        "part": "whole"
       },
       "id": "8eebfc39-f349-4a83-99ac-f3228922a600"
      }
     }
    },
    "69e80d21-c419-4dc5-8ca5-a18229688b0b": {
     "id": "69e80d21-c419-4dc5-8ca5-a18229688b0b",
     "prev": "1a8358d9-9713-40fb-ae66-8631d33306c3",
     "regions": {
      "242852ca-5461-4622-be5d-69d9222bb1f6": {
       "attrs": {
        "height": 0.8,
        "width": 0.8,
        "x": 0.1,
        "y": 0.1
       },
       "content": {
        "cell": "41e715c4-7e0e-4e94-8daf-c2fac08dbc77",
        "part": "whole"
       },
       "id": "242852ca-5461-4622-be5d-69d9222bb1f6"
      }
     }
    },
    "75424a9f-b8ec-4201-b0c8-826f787330ff": {
     "id": "75424a9f-b8ec-4201-b0c8-826f787330ff",
     "prev": "5a03e416-ef6e-4be5-8fe2-f2ffe9286f26",
     "regions": {
      "1d8f2e92-2a98-475b-ad5c-84311d20a45b": {
       "attrs": {
        "height": 0.8,
        "width": 0.8,
        "x": 0.1,
        "y": 0.1
       },
       "content": {
        "cell": "fe46e89c-fedd-48c7-b0e7-7dc75820e6d1",
        "part": "whole"
       },
       "id": "1d8f2e92-2a98-475b-ad5c-84311d20a45b"
      }
     }
    },
    "8abf0287-c39f-491c-9973-fc3eb93e2b47": {
     "id": "8abf0287-c39f-491c-9973-fc3eb93e2b47",
     "prev": "75424a9f-b8ec-4201-b0c8-826f787330ff",
     "regions": {
      "669d6789-cbe8-4724-a737-3ae875869962": {
       "attrs": {
        "height": 0.8,
        "width": 0.8,
        "x": 0.1,
        "y": 0.1
       },
       "content": {
        "cell": "1fe05a3b-72bd-42c8-844d-7d95a94d723a",
        "part": "whole"
       },
       "id": "669d6789-cbe8-4724-a737-3ae875869962"
      }
     }
    },
    "8e0a1052-29dd-434d-8a5c-7a4975cb28b1": {
     "id": "8e0a1052-29dd-434d-8a5c-7a4975cb28b1",
     "prev": "e450c842-2bdf-4d66-9cbd-0a6132bba227",
     "regions": {
      "2bfcff54-a28e-411a-bdb9-beb693a87697": {
       "attrs": {
        "height": 0.8,
        "width": 0.8,
        "x": 0.1,
        "y": 0.1
       },
       "content": {
        "cell": "da3614b6-dc2e-4f21-9770-eedde8c95936",
        "part": "whole"
       },
       "id": "2bfcff54-a28e-411a-bdb9-beb693a87697"
      }
     }
    },
    "8f6d316c-633f-47e1-b5b7-aea100f12b1e": {
     "id": "8f6d316c-633f-47e1-b5b7-aea100f12b1e",
     "prev": "1717b065-15b9-4950-9c56-969b28c45860",
     "regions": {
      "fc9574b4-55bf-4360-b452-3bd0ce00b95d": {
       "attrs": {
        "height": 0.8,
        "width": 0.8,
        "x": 0.1,
        "y": 0.1
       },
       "content": {
        "cell": "6638be0f-3ba0-4bfe-87cb-d9add37fd6d3",
        "part": "whole"
       },
       "id": "fc9574b4-55bf-4360-b452-3bd0ce00b95d"
      }
     }
    },
    "903e1981-d620-475f-9378-25359a6d02e0": {
     "id": "903e1981-d620-475f-9378-25359a6d02e0",
     "prev": "28d1af33-f4d2-42ce-8e23-0f1f34fb7e21",
     "regions": {
      "ce55299a-496a-4731-b6ca-2592f6a2e3fb": {
       "attrs": {
        "height": 0.8,
        "width": 0.8,
        "x": 0.1,
        "y": 0.1
       },
       "content": {
        "cell": "e325d109-3cdc-4454-91a2-279b4953a149",
        "part": "whole"
       },
       "id": "ce55299a-496a-4731-b6ca-2592f6a2e3fb"
      }
     }
    },
    "92f8c3cd-108a-4bfb-93c4-eeae7f3488cc": {
     "id": "92f8c3cd-108a-4bfb-93c4-eeae7f3488cc",
     "prev": "a88e616a-c8d2-44a2-907d-53ec7de82a8f",
     "regions": {
      "e8fa2111-7ed5-4e51-a5a3-109c4d52f6aa": {
       "attrs": {
        "height": 0.8,
        "width": 0.8,
        "x": 0.1,
        "y": 0.1
       },
       "content": {
        "cell": "89184848-b71e-404b-85f1-b9c21c234cdc",
        "part": "whole"
       },
       "id": "e8fa2111-7ed5-4e51-a5a3-109c4d52f6aa"
      }
     }
    },
    "a4c44fc4-f3be-416d-8528-2dfe97c17ddf": {
     "id": "a4c44fc4-f3be-416d-8528-2dfe97c17ddf",
     "prev": "ea6d59cf-7244-443f-9a49-d4ce8c3aca1c",
     "regions": {
      "41f02615-3820-4022-afd6-a13e2f36cd88": {
       "attrs": {
        "height": 0.8,
        "width": 0.8,
        "x": 0.1,
        "y": 0.1
       },
       "content": {
        "cell": "5ace7db1-2542-49d1-8480-fe910938e321",
        "part": "whole"
       },
       "id": "41f02615-3820-4022-afd6-a13e2f36cd88"
      }
     }
    },
    "a88e616a-c8d2-44a2-907d-53ec7de82a8f": {
     "id": "a88e616a-c8d2-44a2-907d-53ec7de82a8f",
     "prev": "25df7651-9e11-43be-993f-8162d34e3ea0",
     "regions": {
      "53a11d49-275d-465d-912f-fef65b3fe571": {
       "attrs": {
        "height": 0.8,
        "width": 0.8,
        "x": 0.1,
        "y": 0.1
       },
       "content": {
        "cell": "f3643886-c5ff-4f15-88f8-3f2c71a9b1e9",
        "part": "whole"
       },
       "id": "53a11d49-275d-465d-912f-fef65b3fe571"
      }
     }
    },
    "bc6ed4b4-755e-4125-a107-13a11ca9d6a5": {
     "id": "bc6ed4b4-755e-4125-a107-13a11ca9d6a5",
     "prev": "0bcf284f-13d5-4afb-9073-ac6c81d44491",
     "regions": {
      "0fca793d-0d88-4dc3-9227-da08bb7b8c5a": {
       "attrs": {
        "height": 0.8,
        "width": 0.8,
        "x": 0.1,
        "y": 0.1
       },
       "content": {
        "cell": "59688b98-6541-4bfb-8338-2e3e71702990",
        "part": "whole"
       },
       "id": "0fca793d-0d88-4dc3-9227-da08bb7b8c5a"
      }
     }
    },
    "bd9ca544-ae2e-405b-891f-48697f71df7d": {
     "id": "bd9ca544-ae2e-405b-891f-48697f71df7d",
     "prev": "5c32198c-ce62-4041-9249-b0edf99ba54f",
     "regions": {
      "65c43649-dccb-4480-bbca-02eeaceb3567": {
       "attrs": {
        "height": 0.8,
        "width": 0.8,
        "x": 0.1,
        "y": 0.1
       },
       "content": {
        "cell": "d9ec16a1-d5ae-4f67-a1b6-e6bd1321a8a9",
        "part": "whole"
       },
       "id": "65c43649-dccb-4480-bbca-02eeaceb3567"
      }
     }
    },
    "c295fb5a-d8be-4476-bba5-7d0e161d8aac": {
     "id": "c295fb5a-d8be-4476-bba5-7d0e161d8aac",
     "prev": "4a26c1cf-df42-49b4-b257-b6d6482cd2ab",
     "regions": {
      "223f3ca6-a708-4b8b-8331-d54aeba2439f": {
       "attrs": {
        "height": 0.8,
        "width": 0.8,
        "x": 0.1,
        "y": 0.1
       },
       "content": {
        "cell": "f43a4420-a08c-4ec3-a5a3-cd83af6636c8",
        "part": "whole"
       },
       "id": "223f3ca6-a708-4b8b-8331-d54aeba2439f"
      }
     }
    },
    "c39db887-12c1-413a-bcd5-560cf05ee57a": {
     "id": "c39db887-12c1-413a-bcd5-560cf05ee57a",
     "prev": "35282a81-9898-4342-9d07-1b6143193001",
     "regions": {
      "aa880de9-1721-44db-a457-83b21c863259": {
       "attrs": {
        "height": 0.8,
        "width": 0.8,
        "x": 0.1,
        "y": 0.1
       },
       "content": {
        "cell": "2b6516c6-0a35-463c-9c0a-d455d238be6c",
        "part": "whole"
       },
       "id": "aa880de9-1721-44db-a457-83b21c863259"
      }
     }
    },
    "c5367e89-b0a0-42ad-8f0c-2785258515ed": {
     "id": "c5367e89-b0a0-42ad-8f0c-2785258515ed",
     "prev": "bd9ca544-ae2e-405b-891f-48697f71df7d",
     "regions": {
      "32861c4b-e2c0-485a-a3dd-d59b86ed9a15": {
       "attrs": {
        "height": 0.8,
        "width": 0.8,
        "x": 0.1,
        "y": 0.1
       },
       "content": {
        "cell": "5317620f-df41-46b7-a04d-d3df998c5650",
        "part": "whole"
       },
       "id": "32861c4b-e2c0-485a-a3dd-d59b86ed9a15"
      }
     }
    },
    "cb7fb006-78a8-4fc7-8ebc-e3d3a75a1038": {
     "id": "cb7fb006-78a8-4fc7-8ebc-e3d3a75a1038",
     "prev": "a4c44fc4-f3be-416d-8528-2dfe97c17ddf",
     "regions": {
      "1a2ae1e3-5036-4bf5-92ca-ccf92ca8a530": {
       "attrs": {
        "height": 0.8,
        "width": 0.8,
        "x": 0.1,
        "y": 0.1
       },
       "content": {
        "cell": "01e6a219-edb2-4865-9d6e-c50e3a8c27ab",
        "part": "whole"
       },
       "id": "1a2ae1e3-5036-4bf5-92ca-ccf92ca8a530"
      }
     }
    },
    "da45f792-7e8c-4bc0-acbd-dd2901583872": {
     "id": "da45f792-7e8c-4bc0-acbd-dd2901583872",
     "prev": "674855be-5fc5-450d-a91c-7fef532d3548",
     "regions": {
      "696b43c1-d874-4dcf-ace1-0831ce0c646a": {
       "attrs": {
        "height": 0.8,
        "width": 0.8,
        "x": 0.1,
        "y": 0.1
       },
       "content": {
        "cell": "10d91b0c-81d6-47d3-9b23-af31629e9cae",
        "part": "whole"
       },
       "id": "696b43c1-d874-4dcf-ace1-0831ce0c646a"
      }
     }
    },
    "dcb49625-c12c-485e-9ef4-d9f35e6c0e7a": {
     "id": "dcb49625-c12c-485e-9ef4-d9f35e6c0e7a",
     "prev": "8f6d316c-633f-47e1-b5b7-aea100f12b1e",
     "regions": {
      "37f2e606-5d05-4fbc-9a5d-ef10b5dc2610": {
       "attrs": {
        "height": 0.8,
        "width": 0.8,
        "x": 0.1,
        "y": 0.1
       },
       "content": {
        "cell": "c9f16d1d-bf09-46fa-a482-7e85a8414d44",
        "part": "whole"
       },
       "id": "37f2e606-5d05-4fbc-9a5d-ef10b5dc2610"
      }
     }
    },
    "e34ad7b8-6b90-41c8-b193-7936c73cb9e8": {
     "id": "e34ad7b8-6b90-41c8-b193-7936c73cb9e8",
     "prev": "4e8d4daf-6314-4d8d-81f9-e4e04011e641",
     "regions": {
      "eecf7a8c-9f26-40d9-9370-4f96c753b39f": {
       "attrs": {
        "height": 0.8,
        "width": 0.8,
        "x": 0.1,
        "y": 0.1
       },
       "content": {
        "cell": "695477f0-9395-4217-b153-cb6d9be32526",
        "part": "whole"
       },
       "id": "eecf7a8c-9f26-40d9-9370-4f96c753b39f"
      }
     }
    },
    "e450c842-2bdf-4d66-9cbd-0a6132bba227": {
     "id": "e450c842-2bdf-4d66-9cbd-0a6132bba227",
     "prev": "438f42ed-7d24-4eac-8bbe-d608ff3724ba",
     "regions": {
      "8f9b8fb3-82ef-4211-9581-bdbd630e13a9": {
       "attrs": {
        "height": 0.8,
        "width": 0.8,
        "x": 0.1,
        "y": 0.1
       },
       "content": {
        "cell": "0c258966-cc14-4ee4-8421-2e72213e58a2",
        "part": "whole"
       },
       "id": "8f9b8fb3-82ef-4211-9581-bdbd630e13a9"
      }
     }
    },
    "ea6d59cf-7244-443f-9a49-d4ce8c3aca1c": {
     "id": "ea6d59cf-7244-443f-9a49-d4ce8c3aca1c",
     "prev": "07075ca9-d23e-46dc-b6ee-2620ce046844",
     "regions": {
      "f3ad80f5-f48a-41f1-9029-227e01e23737": {
       "attrs": {
        "height": 0.8,
        "width": 0.8,
        "x": 0.1,
        "y": 0.1
       },
       "content": {
        "cell": "d555c53c-4806-4d75-a5ae-cfef99e77189",
        "part": "whole"
       },
       "id": "f3ad80f5-f48a-41f1-9029-227e01e23737"
      }
     }
    }
   },
   "themes": {}
  }
 },
 "nbformat": 4,
 "nbformat_minor": 0
}
